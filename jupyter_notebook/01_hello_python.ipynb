{
 "cells": [
  {
   "cell_type": "code",
   "execution_count": 127,
   "id": "2378a2a3",
   "metadata": {
    "scrolled": true
   },
   "outputs": [
    {
     "data": {
      "text/plain": [
       "(    姓名  年齡 性別\n",
       " 0  陳一中   5  M\n",
       " 2  張柏伸  24  M\n",
       " 3  林文進  33  M\n",
       " 4  許維辰  14  M\n",
       " 6  何紹宏   9  M\n",
       " 7  楊敏全  51  M,\n",
       "      年齡\n",
       " 性別     \n",
       "  F   35\n",
       " F    66\n",
       " M   136)"
      ]
     },
     "execution_count": 127,
     "metadata": {},
     "output_type": "execute_result"
    }
   ],
   "source": [
    "import pandas as pd\n",
    "df = pd.read_csv(\"name.csv\")\n",
    "df.loc[df['性別']==' M',\"性別\"] = 'M'\n",
    "s=df.groupby('性別')\n",
    "df[df['性別']=='M'],s.sum()"
   ]
  },
  {
   "cell_type": "code",
   "execution_count": 72,
   "id": "e893ba73",
   "metadata": {},
   "outputs": [
    {
     "data": {
      "text/plain": [
       "c    5\n",
       "c    6\n",
       "c    7\n",
       "c    8\n",
       "c    9\n",
       "dtype: int64"
      ]
     },
     "execution_count": 72,
     "metadata": {},
     "output_type": "execute_result"
    }
   ],
   "source": [
    "import pandas as pd\n",
    "seriesObj = pd.Series(range(10),index=['a', 'a', 'b', 'b', 'b','c','c','c','c','c'])\n",
    "seriesObj[\"c\"] "
   ]
  },
  {
   "cell_type": "code",
   "execution_count": 67,
   "id": "a1b125e6",
   "metadata": {},
   "outputs": [
    {
     "data": {
      "text/plain": [
       "(          0         1         2\n",
       " a -1.980613  0.625499 -0.871073\n",
       " b  0.303669  1.710442  1.629457\n",
       " c  0.254760 -1.955827 -0.307759\n",
       " d  0.305599  0.962927  0.325880,\n",
       "           0         1         2\n",
       " a -1.980613  0.625499 -0.871073\n",
       " b  0.303669  1.710442  1.629457\n",
       " c  0.254760 -1.955827 -0.307759)"
      ]
     },
     "execution_count": 67,
     "metadata": {},
     "output_type": "execute_result"
    }
   ],
   "source": [
    "import pandas as pd\n",
    "import numpy as np\n",
    "df = pd.DataFrame(np.random.randn(4,3),index=['a', 'b', 'c', 'd'])\n",
    "df,df[0:3].iloc[0:4]"
   ]
  },
  {
   "cell_type": "code",
   "execution_count": 18,
   "id": "1af6a09f",
   "metadata": {},
   "outputs": [
    {
     "data": {
      "text/plain": [
       "array([[ 0, 10],\n",
       "       [ 1, 11],\n",
       "       [ 2, 12],\n",
       "       [ 3, 13],\n",
       "       [ 4, 14],\n",
       "       [ 5, 15],\n",
       "       [ 6, 16],\n",
       "       [ 7, 17],\n",
       "       [ 8, 18],\n",
       "       [ 9, 19]])"
      ]
     },
     "execution_count": 18,
     "metadata": {},
     "output_type": "execute_result"
    }
   ],
   "source": [
    "import pandas as pd\n",
    "import numpy as np\n",
    "col = ['class','name','hbd']\n",
    "data = [['class0', 'user0', '1993-10-01'],\n",
    "        ['class0', 'user1', '1992-10-02'],\n",
    "        ['class1', 'user2', '1990-10-01'],\n",
    "        ['class2', 'user3', '1983-10-03'],\n",
    "        ['class1', 'user4', '1991-10-02'],\n",
    "        ['class0', 'user5', '2001-10-03']]\n",
    "frame = pd.DataFrame(data,columns=col)\n",
    "frames = np.load(\"陣列.npy\")\n",
    "frames"
   ]
  },
  {
   "cell_type": "code",
   "execution_count": 16,
   "id": "3023bd16",
   "metadata": {},
   "outputs": [],
   "source": [
    "import numpy as np\n",
    "x = np.arange(20)\n",
    "xx = x.reshape(2,10)\n",
    "xxx = xx.T\n",
    "np.save(\"陣列\",xxx)\n"
   ]
  },
  {
   "cell_type": "code",
   "execution_count": 3,
   "id": "27c47d53",
   "metadata": {},
   "outputs": [
    {
     "name": "stdout",
     "output_type": "stream",
     "text": [
      "C:\\Users\\admin\\.virtualenvs\\visual_env-Jgcwyc_S\n",
      "ALTER TABLE record_info MODIFY COLUMN `record` enum('摰����','銝����','靽����','��交捏','���畾�','銝�畾�','��餅捏','��箸捏','��典�����','���憭�') not null;\n",
      "\n",
      "C:\\Users\\admin\\AppData\\Roaming\\Python\\Python310\\Scripts\n",
      "\n",
      "qsLZ1IUioqrml59LH94PciJjIxxPVfw4bXMM1WgEffS\n",
      "\n",
      "\n",
      "\"LOAD DATA local INFILE 'C:/Users/admin/Desktop/name.csv' IGNORE INTO TABLE name_info\\\n",
      "FIELDS TERMINATED BY ',' ENCLOSED BY '\\\"' LINES TERMINATED BY '\\\\n' ignore 1 lines (username);\")\n"
     ]
    }
   ],
   "source": [
    "!type sql.txt"
   ]
  },
  {
   "cell_type": "code",
   "execution_count": null,
   "id": "073585d9",
   "metadata": {},
   "outputs": [],
   "source": []
  }
 ],
 "metadata": {
  "kernelspec": {
   "display_name": "Python 3 (ipykernel)",
   "language": "python",
   "name": "python3"
  },
  "language_info": {
   "codemirror_mode": {
    "name": "ipython",
    "version": 3
   },
   "file_extension": ".py",
   "mimetype": "text/x-python",
   "name": "python",
   "nbconvert_exporter": "python",
   "pygments_lexer": "ipython3",
   "version": "3.10.2"
  }
 },
 "nbformat": 4,
 "nbformat_minor": 5
}
